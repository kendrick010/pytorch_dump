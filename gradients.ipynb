{
 "cells": [
  {
   "cell_type": "markdown",
   "id": "48fe7bdf",
   "metadata": {},
   "source": [
    "# Gradients Example\n",
    "\n",
    "**Part 1 (from scratch):**\n",
    "- Prediction (Manually)\n",
    "- Gradients Computation (Manually)\n",
    "- Loss Computation (Manually)\n",
    "- Parameter Updates (Manually)\n",
    "\n",
    "**Part 2:**\n",
    "- Prediction (Manually)\n",
    "- Gradients Computation (Autograd)\n",
    "- Loss Computation (Manually)\n",
    "- Parameter Updates (Manually)\n",
    "\n",
    "**Part 3:**\n",
    "- Prediction (Manually)\n",
    "- Gradients Computation (Autograd)\n",
    "- Loss Computation (PyTorch loss)\n",
    "- Parameter Updates (PyTorch optimizer)\n",
    "\n",
    "**Part 4 (everything automated by PyTorch):**\n",
    "- Prediction (PyTorch model)\n",
    "- Gradients Computation (Autograd)\n",
    "- Loss Computation (PyTorch loss)\n",
    "- Parameter Updates (PyTorch optimizer)"
   ]
  },
  {
   "cell_type": "markdown",
   "id": "9f8854fa",
   "metadata": {},
   "source": [
    "# Code Implementation"
   ]
  },
  {
   "cell_type": "code",
   "execution_count": 1,
   "id": "909416b4",
   "metadata": {},
   "outputs": [],
   "source": [
    "import numpy as np\n",
    "import torch"
   ]
  },
  {
   "cell_type": "markdown",
   "id": "507c5091",
   "metadata": {},
   "source": [
    "## Part 1"
   ]
  },
  {
   "cell_type": "code",
   "execution_count": 2,
   "id": "c93861f6",
   "metadata": {},
   "outputs": [],
   "source": [
    "# f = w * x\n",
    "# f = 2 * x\n",
    "\n",
    "X = np.array([1, 2, 3, 4], dtype=np.float32)\n",
    "y = np.array([2, 4, 6, 8], dtype=np.float32)\n",
    "\n",
    "w = 0.0"
   ]
  },
  {
   "cell_type": "code",
   "execution_count": 3,
   "id": "5135e22e",
   "metadata": {},
   "outputs": [],
   "source": [
    "# Calculate model prediction\n",
    "def forward(X):\n",
    "    return w * X\n",
    "\n",
    "# Loss = MSE = 1/N * (w*x - y)^2 = K\n",
    "def loss(y, y_hat):\n",
    "    return ((y_hat-y)**2).mean()\n",
    "\n",
    "# Gradient\n",
    "# dK/dw = 1/N * 2x * (w*x - y)\n",
    "def gradient(x, y, y_hat):\n",
    "    return np.dot(2*x, y_hat-y).mean()"
   ]
  },
  {
   "cell_type": "code",
   "execution_count": 4,
   "id": "22c1b2e3",
   "metadata": {},
   "outputs": [
    {
     "name": "stdout",
     "output_type": "stream",
     "text": [
      "Prediction before training: f(5) = 0.0\n"
     ]
    }
   ],
   "source": [
    "print(f'Prediction before training: f(5) = {forward(5)}')"
   ]
  },
  {
   "cell_type": "code",
   "execution_count": 5,
   "id": "ea0cc4a8",
   "metadata": {},
   "outputs": [
    {
     "name": "stdout",
     "output_type": "stream",
     "text": [
      "epoch 1: w = 1.2, loss = 30.0\n",
      "epoch 3: w = 1.8720000267028807, loss = 0.7680001854896545\n",
      "epoch 5: w = 1.9795200514793394, loss = 0.019660834223031998\n",
      "epoch 7: w = 1.9967232251167295, loss = 0.000503324146848172\n",
      "epoch 9: w = 1.9994757366180418, loss = 1.2884394891443662e-05\n",
      "epoch 11: w = 1.9999160981178281, loss = 3.297340072094812e-07\n",
      "epoch 13: w = 1.99998655796051, loss = 8.421768171729127e-09\n",
      "epoch 15: w = 1.9999978733062742, loss = 2.1679014139408537e-10\n",
      "epoch 17: w = 1.999999668598175, loss = 5.076827847005916e-12\n",
      "epoch 19: w = 1.9999999547004699, loss = 1.3145040611561853e-13\n"
     ]
    }
   ],
   "source": [
    "learning_rate = 0.01\n",
    "n_iters = 20\n",
    "\n",
    "for epoch in range(n_iters):\n",
    "    # prediction = forward pass\n",
    "    y_hat = forward(X)\n",
    "    \n",
    "    # loss\n",
    "    l = loss(y, y_hat)\n",
    "    \n",
    "    # gradients\n",
    "    dw = gradient(X, y, y_hat)\n",
    "    \n",
    "    # update weights\n",
    "    w -= learning_rate * dw\n",
    "    \n",
    "    if epoch % 2 == 0:\n",
    "        print(f'epoch {epoch + 1}: w = {w}, loss = {l}')"
   ]
  },
  {
   "cell_type": "code",
   "execution_count": 6,
   "id": "eb552eb2",
   "metadata": {},
   "outputs": [
    {
     "name": "stdout",
     "output_type": "stream",
     "text": [
      "Prediction before training: f(5) = 9.99999977350235\n"
     ]
    }
   ],
   "source": [
    "print(f'Prediction after training: f(5) = {forward(5)}')"
   ]
  },
  {
   "cell_type": "markdown",
   "id": "93a5aff4",
   "metadata": {},
   "source": [
    "# Part 2"
   ]
  },
  {
   "cell_type": "code",
   "execution_count": 10,
   "id": "006f957f",
   "metadata": {},
   "outputs": [],
   "source": [
    "X = torch.tensor([1, 2, 3, 4], dtype=torch.float32)\n",
    "y = torch.tensor([2, 4, 6, 8], dtype=torch.float32)\n",
    "\n",
    "w = torch.tensor(0.0, dtype=torch.float32, requires_grad=True)"
   ]
  },
  {
   "cell_type": "code",
   "execution_count": 11,
   "id": "cd1b3ce6",
   "metadata": {},
   "outputs": [
    {
     "name": "stdout",
     "output_type": "stream",
     "text": [
      "Prediction before training: f(5) = 0.0\n"
     ]
    }
   ],
   "source": [
    "print(f'Prediction before training: f(5) = {forward(5)}')"
   ]
  },
  {
   "cell_type": "code",
   "execution_count": 14,
   "id": "cef200cc",
   "metadata": {},
   "outputs": [
    {
     "name": "stdout",
     "output_type": "stream",
     "text": [
      "epoch 1: w = 1.934108853340149, loss = 0.0450688973069191\n",
      "epoch 11: w = 1.987027645111084, loss = 0.0017468547448515892\n",
      "epoch 21: w = 1.9974461793899536, loss = 6.770494655938819e-05\n",
      "epoch 31: w = 1.9994971752166748, loss = 2.6243997126584873e-06\n",
      "epoch 41: w = 1.9999010562896729, loss = 1.0175587306093803e-07\n",
      "epoch 51: w = 1.9999804496765137, loss = 3.9741685498029256e-09\n",
      "epoch 61: w = 1.999996304512024, loss = 1.4670220593870908e-10\n",
      "epoch 71: w = 1.9999992847442627, loss = 5.076827847005916e-12\n",
      "epoch 81: w = 1.9999996423721313, loss = 8.988365607365267e-13\n",
      "epoch 91: w = 1.9999996423721313, loss = 8.988365607365267e-13\n"
     ]
    }
   ],
   "source": [
    "learning_rate = 0.01\n",
    "n_iters = 100\n",
    "\n",
    "for epoch in range(n_iters):\n",
    "    # prediction = forward pass\n",
    "    y_hat = forward(X)\n",
    "    \n",
    "    # loss\n",
    "    l = loss(y, y_hat)\n",
    "    \n",
    "    # gradients, dl/dw\n",
    "    l.backward()\n",
    "    \n",
    "    # update weights\n",
    "    with torch.no_grad():\n",
    "        w -= learning_rate * w.grad\n",
    "    \n",
    "    # zero gradients\n",
    "    w.grad.zero_()\n",
    "    \n",
    "    if epoch % 10 == 0:\n",
    "        print(f'epoch {epoch + 1}: w = {w}, loss = {l}')"
   ]
  },
  {
   "cell_type": "code",
   "execution_count": 15,
   "id": "46850c35",
   "metadata": {},
   "outputs": [
    {
     "name": "stdout",
     "output_type": "stream",
     "text": [
      "Prediction after training: f(5) = 9.999998092651367\n"
     ]
    }
   ],
   "source": [
    "print(f'Prediction after training: f(5) = {forward(5)}')"
   ]
  }
 ],
 "metadata": {
  "kernelspec": {
   "display_name": "pytorch_practice",
   "language": "python",
   "name": "pytorch_practice"
  },
  "language_info": {
   "codemirror_mode": {
    "name": "ipython",
    "version": 3
   },
   "file_extension": ".py",
   "mimetype": "text/x-python",
   "name": "python",
   "nbconvert_exporter": "python",
   "pygments_lexer": "ipython3",
   "version": "3.10.12"
  }
 },
 "nbformat": 4,
 "nbformat_minor": 5
}
