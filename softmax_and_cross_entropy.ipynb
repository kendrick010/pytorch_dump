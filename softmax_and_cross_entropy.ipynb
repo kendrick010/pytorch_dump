{
 "cells": [
  {
   "cell_type": "markdown",
   "id": "ff7e3e08",
   "metadata": {},
   "source": [
    "# Softmax and Cross-Entropy"
   ]
  },
  {
   "cell_type": "markdown",
   "id": "d65e9e18",
   "metadata": {},
   "source": [
    "## Softmax\n",
    "\n",
    "![softmax](notes/softmax.PNG)\n",
    "\n",
    "$$S(y_i)=\\frac{e^{y_i}}{\\sum_{}^{}e^{y_j}}$$"
   ]
  },
  {
   "cell_type": "code",
   "execution_count": 1,
   "id": "e5fbdd15",
   "metadata": {},
   "outputs": [],
   "source": [
    "import torch\n",
    "import torch.nn as nn\n",
    "import numpy as np"
   ]
  },
  {
   "cell_type": "code",
   "execution_count": 2,
   "id": "cd639dd1",
   "metadata": {},
   "outputs": [],
   "source": [
    "def softmax(x):\n",
    "    return np.exp(x) / np.sum(np.exp(x), axis=0)\n",
    "\n",
    "x = np.array([2.0, 1.0, 0.1])\n",
    "outputs = softmax(x)"
   ]
  },
  {
   "cell_type": "code",
   "execution_count": 3,
   "id": "af63162d",
   "metadata": {},
   "outputs": [
    {
     "data": {
      "text/plain": [
       "tensor([0.6590, 0.2424, 0.0986])"
      ]
     },
     "execution_count": 3,
     "metadata": {},
     "output_type": "execute_result"
    }
   ],
   "source": [
    "# similarly in pytorch\n",
    "x = torch.tensor([2.0, 1.0, 0.1])\n",
    "outputs = torch.softmax(x, dim=0)\n",
    "\n",
    "outputs"
   ]
  },
  {
   "cell_type": "markdown",
   "id": "f42aae17",
   "metadata": {},
   "source": [
    "## Cross-Entropy\n",
    "\n",
    "![softmax](notes/cross_entropy.PNG)"
   ]
  },
  {
   "cell_type": "code",
   "execution_count": 4,
   "id": "fbcb4747",
   "metadata": {},
   "outputs": [
    {
     "name": "stdout",
     "output_type": "stream",
     "text": [
      "Loss1 numpy: 0.35667494393873245\n",
      "Loss2 numpy: 2.3025850929940455\n"
     ]
    }
   ],
   "source": [
    "def cross_entropy(actual, predicted):\n",
    "    loss = -np.sum(actual * np.log(predicted))\n",
    "    return loss  # /float(predicted.shape[0])\n",
    "\n",
    "# y must be one hot encoded\n",
    "y = np.array([1, 0, 0])\n",
    "\n",
    "# y_pred has probabilities\n",
    "y_pred_good = np.array([0.7, 0.2, 0.1])\n",
    "y_pred_bad = np.array([0.1, 0.3, 0.6])\n",
    "\n",
    "l1 = cross_entropy(y, y_pred_good)\n",
    "l2 = cross_entropy(y, y_pred_bad)\n",
    "\n",
    "print(f'Loss1 numpy: {l1}')\n",
    "print(f'Loss2 numpy: {l2}')"
   ]
  },
  {
   "cell_type": "code",
   "execution_count": 5,
   "id": "d70ec1be",
   "metadata": {},
   "outputs": [
    {
     "name": "stdout",
     "output_type": "stream",
     "text": [
      "Loss1 numpy: 0.4170299470424652\n",
      "Loss2 numpy: 1.840616226196289\n"
     ]
    }
   ],
   "source": [
    "'''\n",
    "similarly in pytorch,\n",
    "\n",
    "NOTE: nn.CrossEntropyLoss() applies nn.LogSoftmax + nn.NLLLoss (negative log likelihood loss) already\n",
    " \n",
    "-> no softmax in last layer\n",
    "\n",
    "y has clas labels, not one hot encoded\n",
    "y_pred has raw scores (logits), no softmax\n",
    "'''\n",
    "\n",
    "loss = nn.CrossEntropyLoss()\n",
    "\n",
    "# Ground truth is at index 0\n",
    "y = torch.tensor([0])\n",
    "\n",
    "# nsamples * nclasses, raw scores\n",
    "y_pred_good = torch.tensor([[2.0, 1.0, 0.1]])\n",
    "y_pred_bad = torch.tensor([[0.5, 2.0, 0.3]])\n",
    "\n",
    "l1 = loss(y_pred_good, y)\n",
    "l2 = loss(y_pred_bad, y)\n",
    "\n",
    "print(f'Loss1 numpy: {l1}')\n",
    "print(f'Loss2 numpy: {l2}')"
   ]
  },
  {
   "cell_type": "code",
   "execution_count": 6,
   "id": "bb89336c",
   "metadata": {},
   "outputs": [
    {
     "data": {
      "text/plain": [
       "(tensor([0]), tensor([1]))"
      ]
     },
     "execution_count": 6,
     "metadata": {},
     "output_type": "execute_result"
    }
   ],
   "source": [
    "_, best_prediction_in_good = torch.max(y_pred_good, 1)\n",
    "_, best_prediction_in_bad = torch.max(y_pred_bad, 1)\n",
    "\n",
    "best_prediction_in_good, best_prediction_in_bad"
   ]
  },
  {
   "cell_type": "markdown",
   "id": "e07aa183",
   "metadata": {},
   "source": [
    "## Multi-Class Neural Network\n",
    "\n",
    "![nn](notes/nn_softmax_multi.PNG)"
   ]
  },
  {
   "cell_type": "code",
   "execution_count": 7,
   "id": "1e94d41d",
   "metadata": {},
   "outputs": [],
   "source": [
    "# Multiclass problem\n",
    "class NeuralNet2(nn.Module):\n",
    "    def __init__(self, input_size, hidden_size, num_classes):\n",
    "        super(NeuralNet2, self).__init__()\n",
    "        self.linear1 = nn.Linear(input_size, hidden_size) \n",
    "        self.relu = nn.ReLU()\n",
    "        self.linear2 = nn.Linear(hidden_size, num_classes)  \n",
    "    \n",
    "    def forward(self, x):\n",
    "        out = self.linear1(x)\n",
    "        out = self.relu(out)\n",
    "        out = self.linear2(out)\n",
    "        # no softmax at the end\n",
    "        return out"
   ]
  },
  {
   "cell_type": "code",
   "execution_count": 8,
   "id": "835ed0b2",
   "metadata": {},
   "outputs": [],
   "source": [
    "model = NeuralNet2(input_size=28*28, hidden_size=5, num_classes=3)\n",
    "criterion = nn.CrossEntropyLoss()  # (applies Softmax)"
   ]
  },
  {
   "cell_type": "markdown",
   "id": "b423e5bc",
   "metadata": {},
   "source": [
    "## Binary-Class Neural Network\n",
    "\n",
    "![nn](notes/nn_softmax_binary.PNG)"
   ]
  },
  {
   "cell_type": "code",
   "execution_count": 9,
   "id": "90d57232",
   "metadata": {},
   "outputs": [],
   "source": [
    "# Binary classification\n",
    "class NeuralNet1(nn.Module):\n",
    "    def __init__(self, input_size, hidden_size):\n",
    "        super(NeuralNet1, self).__init__()\n",
    "        self.linear1 = nn.Linear(input_size, hidden_size) \n",
    "        self.relu = nn.ReLU()\n",
    "        self.linear2 = nn.Linear(hidden_size, 1)  \n",
    "    \n",
    "    def forward(self, x):\n",
    "        out = self.linear1(x)\n",
    "        out = self.relu(out)\n",
    "        out = self.linear2(out)\n",
    "        # sigmoid at the end\n",
    "        y_pred = torch.sigmoid(out)\n",
    "        return y_pred"
   ]
  },
  {
   "cell_type": "code",
   "execution_count": 10,
   "id": "ca6524ce",
   "metadata": {},
   "outputs": [],
   "source": [
    "model = NeuralNet1(input_size=28*28, hidden_size=5)\n",
    "criterion = nn.BCELoss()"
   ]
  }
 ],
 "metadata": {
  "kernelspec": {
   "display_name": "pytorch_practice",
   "language": "python",
   "name": "pytorch_practice"
  },
  "language_info": {
   "codemirror_mode": {
    "name": "ipython",
    "version": 3
   },
   "file_extension": ".py",
   "mimetype": "text/x-python",
   "name": "python",
   "nbconvert_exporter": "python",
   "pygments_lexer": "ipython3",
   "version": "3.10.12"
  }
 },
 "nbformat": 4,
 "nbformat_minor": 5
}
