{
 "cells": [
  {
   "cell_type": "markdown",
   "id": "635d1c8d",
   "metadata": {},
   "source": [
    "# Iris Dataset Neural Network Classification"
   ]
  },
  {
   "cell_type": "markdown",
   "id": "6fb43ad8",
   "metadata": {},
   "source": [
    "A simple Iris Dataset classifier using PyTorch\n",
    "\n",
    "**Note**: Still need to play around with batch training"
   ]
  },
  {
   "cell_type": "markdown",
   "id": "76df01ea",
   "metadata": {},
   "source": [
    "## Import Required Libraries"
   ]
  },
  {
   "cell_type": "code",
   "execution_count": 1,
   "id": "1e42fbd7",
   "metadata": {},
   "outputs": [],
   "source": [
    "# Data processing\n",
    "import pandas as pd\n",
    "import numpy as np\n",
    "\n",
    "# PyTorch modules\n",
    "import torch\n",
    "import torch.nn as nn\n",
    "from torch.utils.data import Dataset, DataLoader\n",
    "\n",
    "# sklearn modules\n",
    "from sklearn.preprocessing import StandardScaler\n",
    "from sklearn.model_selection import train_test_split\n",
    "\n",
    "# Visualizations\n",
    "import matplotlib.pyplot as plt"
   ]
  },
  {
   "cell_type": "code",
   "execution_count": 2,
   "id": "6c2fcb13",
   "metadata": {},
   "outputs": [],
   "source": [
    "# Device configuration\n",
    "device = torch.device('cuda' if torch.cuda.is_available() else 'cpu')\n",
    "\n",
    "RANDOM_STATE = 1"
   ]
  },
  {
   "cell_type": "markdown",
   "id": "1e9c0a14",
   "metadata": {},
   "source": [
    "## Iris Dataset Cleaning and Processing"
   ]
  },
  {
   "cell_type": "code",
   "execution_count": 3,
   "id": "fdfdb160",
   "metadata": {},
   "outputs": [
    {
     "data": {
      "text/html": [
       "<div>\n",
       "<style scoped>\n",
       "    .dataframe tbody tr th:only-of-type {\n",
       "        vertical-align: middle;\n",
       "    }\n",
       "\n",
       "    .dataframe tbody tr th {\n",
       "        vertical-align: top;\n",
       "    }\n",
       "\n",
       "    .dataframe thead th {\n",
       "        text-align: right;\n",
       "    }\n",
       "</style>\n",
       "<table border=\"1\" class=\"dataframe\">\n",
       "  <thead>\n",
       "    <tr style=\"text-align: right;\">\n",
       "      <th></th>\n",
       "      <th>Id</th>\n",
       "      <th>SepalLengthCm</th>\n",
       "      <th>SepalWidthCm</th>\n",
       "      <th>PetalLengthCm</th>\n",
       "      <th>PetalWidthCm</th>\n",
       "      <th>Species</th>\n",
       "    </tr>\n",
       "  </thead>\n",
       "  <tbody>\n",
       "    <tr>\n",
       "      <th>0</th>\n",
       "      <td>1</td>\n",
       "      <td>5.1</td>\n",
       "      <td>3.5</td>\n",
       "      <td>1.4</td>\n",
       "      <td>0.2</td>\n",
       "      <td>Iris-setosa</td>\n",
       "    </tr>\n",
       "    <tr>\n",
       "      <th>1</th>\n",
       "      <td>2</td>\n",
       "      <td>4.9</td>\n",
       "      <td>3.0</td>\n",
       "      <td>1.4</td>\n",
       "      <td>0.2</td>\n",
       "      <td>Iris-setosa</td>\n",
       "    </tr>\n",
       "    <tr>\n",
       "      <th>2</th>\n",
       "      <td>3</td>\n",
       "      <td>4.7</td>\n",
       "      <td>3.2</td>\n",
       "      <td>1.3</td>\n",
       "      <td>0.2</td>\n",
       "      <td>Iris-setosa</td>\n",
       "    </tr>\n",
       "    <tr>\n",
       "      <th>3</th>\n",
       "      <td>4</td>\n",
       "      <td>4.6</td>\n",
       "      <td>3.1</td>\n",
       "      <td>1.5</td>\n",
       "      <td>0.2</td>\n",
       "      <td>Iris-setosa</td>\n",
       "    </tr>\n",
       "    <tr>\n",
       "      <th>4</th>\n",
       "      <td>5</td>\n",
       "      <td>5.0</td>\n",
       "      <td>3.6</td>\n",
       "      <td>1.4</td>\n",
       "      <td>0.2</td>\n",
       "      <td>Iris-setosa</td>\n",
       "    </tr>\n",
       "  </tbody>\n",
       "</table>\n",
       "</div>"
      ],
      "text/plain": [
       "   Id  SepalLengthCm  SepalWidthCm  PetalLengthCm  PetalWidthCm      Species\n",
       "0   1            5.1           3.5            1.4           0.2  Iris-setosa\n",
       "1   2            4.9           3.0            1.4           0.2  Iris-setosa\n",
       "2   3            4.7           3.2            1.3           0.2  Iris-setosa\n",
       "3   4            4.6           3.1            1.5           0.2  Iris-setosa\n",
       "4   5            5.0           3.6            1.4           0.2  Iris-setosa"
      ]
     },
     "execution_count": 3,
     "metadata": {},
     "output_type": "execute_result"
    }
   ],
   "source": [
    "# Read dataset\n",
    "iris_df = pd.read_csv('data/Iris.csv')\n",
    "\n",
    "iris_df.head()"
   ]
  },
  {
   "cell_type": "code",
   "execution_count": 4,
   "id": "0310feb7",
   "metadata": {},
   "outputs": [
    {
     "name": "stdout",
     "output_type": "stream",
     "text": [
      "<class 'pandas.core.frame.DataFrame'>\n",
      "RangeIndex: 150 entries, 0 to 149\n",
      "Data columns (total 6 columns):\n",
      " #   Column         Non-Null Count  Dtype  \n",
      "---  ------         --------------  -----  \n",
      " 0   Id             150 non-null    int64  \n",
      " 1   SepalLengthCm  150 non-null    float64\n",
      " 2   SepalWidthCm   150 non-null    float64\n",
      " 3   PetalLengthCm  150 non-null    float64\n",
      " 4   PetalWidthCm   150 non-null    float64\n",
      " 5   Species        150 non-null    object \n",
      "dtypes: float64(4), int64(1), object(1)\n",
      "memory usage: 7.2+ KB\n",
      "None\n"
     ]
    }
   ],
   "source": [
    "# Brief EDA\n",
    "print(iris_df.info())"
   ]
  },
  {
   "cell_type": "code",
   "execution_count": 5,
   "id": "8955dc90",
   "metadata": {},
   "outputs": [
    {
     "name": "stdout",
     "output_type": "stream",
     "text": [
      "Shape: (150, 6)\n",
      "\n",
      "Null entries:\n",
      "Id               0\n",
      "SepalLengthCm    0\n",
      "SepalWidthCm     0\n",
      "PetalLengthCm    0\n",
      "PetalWidthCm     0\n",
      "Species          0\n",
      "dtype: int64\n"
     ]
    }
   ],
   "source": [
    "# Brief EDA\n",
    "print(f'Shape: {iris_df.shape}\\n')\n",
    "print(f'Null entries:\\n{iris_df.isnull().sum()}')"
   ]
  },
  {
   "cell_type": "code",
   "execution_count": 6,
   "id": "e56e430a",
   "metadata": {},
   "outputs": [],
   "source": [
    "# Remove ID column\n",
    "iris_df.drop(['Id'], axis=1, inplace=True)"
   ]
  },
  {
   "cell_type": "code",
   "execution_count": 7,
   "id": "bc3345a7",
   "metadata": {},
   "outputs": [
    {
     "data": {
      "text/plain": [
       "array(['Iris-setosa', 'Iris-versicolor', 'Iris-virginica'], dtype=object)"
      ]
     },
     "execution_count": 7,
     "metadata": {},
     "output_type": "execute_result"
    }
   ],
   "source": [
    "# All unique target variables\n",
    "iris_df['Species'].unique()"
   ]
  },
  {
   "cell_type": "code",
   "execution_count": 8,
   "id": "0fa12d21",
   "metadata": {},
   "outputs": [
    {
     "data": {
      "text/html": [
       "<div>\n",
       "<style scoped>\n",
       "    .dataframe tbody tr th:only-of-type {\n",
       "        vertical-align: middle;\n",
       "    }\n",
       "\n",
       "    .dataframe tbody tr th {\n",
       "        vertical-align: top;\n",
       "    }\n",
       "\n",
       "    .dataframe thead th {\n",
       "        text-align: right;\n",
       "    }\n",
       "</style>\n",
       "<table border=\"1\" class=\"dataframe\">\n",
       "  <thead>\n",
       "    <tr style=\"text-align: right;\">\n",
       "      <th></th>\n",
       "      <th>SepalLengthCm</th>\n",
       "      <th>SepalWidthCm</th>\n",
       "      <th>PetalLengthCm</th>\n",
       "      <th>PetalWidthCm</th>\n",
       "      <th>Species</th>\n",
       "    </tr>\n",
       "  </thead>\n",
       "  <tbody>\n",
       "    <tr>\n",
       "      <th>0</th>\n",
       "      <td>5.1</td>\n",
       "      <td>3.5</td>\n",
       "      <td>1.4</td>\n",
       "      <td>0.2</td>\n",
       "      <td>0</td>\n",
       "    </tr>\n",
       "    <tr>\n",
       "      <th>1</th>\n",
       "      <td>4.9</td>\n",
       "      <td>3.0</td>\n",
       "      <td>1.4</td>\n",
       "      <td>0.2</td>\n",
       "      <td>0</td>\n",
       "    </tr>\n",
       "    <tr>\n",
       "      <th>2</th>\n",
       "      <td>4.7</td>\n",
       "      <td>3.2</td>\n",
       "      <td>1.3</td>\n",
       "      <td>0.2</td>\n",
       "      <td>0</td>\n",
       "    </tr>\n",
       "    <tr>\n",
       "      <th>3</th>\n",
       "      <td>4.6</td>\n",
       "      <td>3.1</td>\n",
       "      <td>1.5</td>\n",
       "      <td>0.2</td>\n",
       "      <td>0</td>\n",
       "    </tr>\n",
       "    <tr>\n",
       "      <th>4</th>\n",
       "      <td>5.0</td>\n",
       "      <td>3.6</td>\n",
       "      <td>1.4</td>\n",
       "      <td>0.2</td>\n",
       "      <td>0</td>\n",
       "    </tr>\n",
       "  </tbody>\n",
       "</table>\n",
       "</div>"
      ],
      "text/plain": [
       "   SepalLengthCm  SepalWidthCm  PetalLengthCm  PetalWidthCm  Species\n",
       "0            5.1           3.5            1.4           0.2        0\n",
       "1            4.9           3.0            1.4           0.2        0\n",
       "2            4.7           3.2            1.3           0.2        0\n",
       "3            4.6           3.1            1.5           0.2        0\n",
       "4            5.0           3.6            1.4           0.2        0"
      ]
     },
     "execution_count": 8,
     "metadata": {},
     "output_type": "execute_result"
    }
   ],
   "source": [
    "# Perform label encoding for target variables\n",
    "encoding = {'Iris-setosa': 0,\n",
    "            'Iris-versicolor': 1, \n",
    "            'Iris-virginica': 2}\n",
    "\n",
    "iris_df['Species'] = iris_df['Species'].map(encoding)\n",
    "\n",
    "iris_df.head()"
   ]
  },
  {
   "cell_type": "markdown",
   "id": "76d64914",
   "metadata": {},
   "source": [
    "## Create Training, Validation, and Test Dataset"
   ]
  },
  {
   "cell_type": "code",
   "execution_count": 9,
   "id": "77fc02c0",
   "metadata": {},
   "outputs": [],
   "source": [
    "# Predictor and target variables\n",
    "X = iris_df.drop(['Species'], axis=1).values\n",
    "y = iris_df['Species'].values"
   ]
  },
  {
   "cell_type": "code",
   "execution_count": 10,
   "id": "08cf1114",
   "metadata": {},
   "outputs": [],
   "source": [
    "# Train test split\n",
    "X_train, X_val, y_train, y_val = train_test_split(X, y, test_size=0.70, random_state=RANDOM_STATE)\n",
    "X_val, X_test, y_val, y_test = train_test_split(X_val, y_val, test_size=0.50, random_state=RANDOM_STATE)"
   ]
  },
  {
   "cell_type": "code",
   "execution_count": 11,
   "id": "fdc0554b",
   "metadata": {},
   "outputs": [],
   "source": [
    "# Scale predictor variables\n",
    "scaler = StandardScaler()\n",
    "\n",
    "X_train = scaler.fit_transform(X_train)\n",
    "X_val = scaler.fit_transform(X_val)\n",
    "X_test = scaler.transform(X_test)"
   ]
  },
  {
   "cell_type": "markdown",
   "id": "a1435d5a",
   "metadata": {},
   "source": [
    "## Create Dataloader"
   ]
  },
  {
   "cell_type": "code",
   "execution_count": 12,
   "id": "95a7907b",
   "metadata": {},
   "outputs": [],
   "source": [
    "class Dataset(Dataset):\n",
    "    def __init__(self, features, labels, transform=None):\n",
    "        self.shape = labels.shape[0]\n",
    "        self.features = features\n",
    "        self.labels = labels\n",
    "        self.transform = transform\n",
    "\n",
    "    def __len__(self):\n",
    "        return self.shape\n",
    "\n",
    "    def __getitem__(self, index):\n",
    "        sample = self.features[index], self.labels[index]\n",
    "        \n",
    "        if self.transform:\n",
    "            sample = self.transform(sample)\n",
    "        \n",
    "        return sample\n",
    "\n",
    "class ToTensor:\n",
    "    def __call__(self, sample):\n",
    "        inputs, targets = sample\n",
    "        return torch.from_numpy(inputs).float(), torch.from_numpy(np.array(targets)).long()"
   ]
  },
  {
   "cell_type": "code",
   "execution_count": 13,
   "id": "8f01c315",
   "metadata": {},
   "outputs": [],
   "source": [
    "# Generators\n",
    "batch_size = 9\n",
    "\n",
    "training_set = Dataset(X_train, y_train, transform=ToTensor())\n",
    "training_generator = DataLoader(dataset=training_set, batch_size=batch_size, shuffle=True, num_workers=0)\n",
    "\n",
    "validation_set = Dataset(X_val, y_val, transform=ToTensor())\n",
    "validation_generator = DataLoader(dataset=validation_set, batch_size=batch_size, shuffle=True, num_workers=0)"
   ]
  },
  {
   "cell_type": "markdown",
   "id": "198e6f36",
   "metadata": {},
   "source": [
    "## Create Neural Network Model"
   ]
  },
  {
   "cell_type": "code",
   "execution_count": 14,
   "id": "b07e1bb7",
   "metadata": {},
   "outputs": [],
   "source": [
    "class NeuralNet(nn.Module):\n",
    "    def __init__(self, input_size, hidden_input_size, hidden_output_size, num_classes):\n",
    "        super(NeuralNet, self).__init__()\n",
    "        self.input_layer = nn.Linear(input_size, hidden_input_size)\n",
    "        self.hidden_layer1 = nn.Linear(hidden_input_size, hidden_output_size)\n",
    "        self.output_layer = nn.Linear(hidden_output_size, num_classes)\n",
    "        self.relu = nn.ReLU()\n",
    "    \n",
    "    def forward(self, x):\n",
    "        out = self.relu(self.input_layer(x))\n",
    "        out = self.relu(self.hidden_layer1(out))\n",
    "        out = self.output_layer(out)\n",
    "        return out"
   ]
  },
  {
   "cell_type": "code",
   "execution_count": 15,
   "id": "933d0d38",
   "metadata": {},
   "outputs": [],
   "source": [
    "# Input_dim = 4 because we have 4 inputs namely sepal_length, sepal_width, petal_length, petal_width\n",
    "# Output_dim = 3 because we have namely 3 categories setosa, versicolor, and virginica\n",
    "\n",
    "input_size  = 4\n",
    "hidden_input_size = 128\n",
    "hidden_output_size = 64\n",
    "num_classes = 3\n",
    "\n",
    "model = NeuralNet(input_size, hidden_input_size, hidden_output_size, num_classes).to(device)\n",
    "#model = NeuralNet(input_size, hidden_input_size, hidden_output_size, num_classes)"
   ]
  },
  {
   "cell_type": "code",
   "execution_count": 16,
   "id": "f8e53a7d",
   "metadata": {},
   "outputs": [],
   "source": [
    "# Creating our optimizer and loss function object\n",
    "learning_rate = 0.01\n",
    "criterion = nn.CrossEntropyLoss()\n",
    "optimizer = torch.optim.Adam(model.parameters(), lr=learning_rate)"
   ]
  },
  {
   "cell_type": "code",
   "execution_count": 17,
   "id": "7b14e8c8",
   "metadata": {},
   "outputs": [],
   "source": [
    "num_epochs = 1000\n",
    "\n",
    "train_losses = np.zeros(num_epochs)\n",
    "validation_losses = np.zeros(num_epochs)"
   ]
  },
  {
   "cell_type": "code",
   "execution_count": 18,
   "id": "6addc166",
   "metadata": {},
   "outputs": [
    {
     "name": "stdout",
     "output_type": "stream",
     "text": [
      "Epoch 50/1000, Train Loss: 0.0015, Test Loss: 0.4761\n",
      "Epoch 100/1000, Train Loss: 0.0004, Test Loss: 0.5170\n",
      "Epoch 150/1000, Train Loss: 0.0002, Test Loss: 0.5720\n",
      "Epoch 200/1000, Train Loss: 0.0001, Test Loss: 0.6312\n",
      "Epoch 250/1000, Train Loss: 0.0001, Test Loss: 0.6575\n",
      "Epoch 300/1000, Train Loss: 0.0000, Test Loss: 0.6989\n",
      "Epoch 350/1000, Train Loss: 0.0000, Test Loss: 0.7403\n",
      "Epoch 400/1000, Train Loss: 0.0000, Test Loss: 0.7610\n",
      "Epoch 450/1000, Train Loss: 0.0000, Test Loss: 0.8126\n",
      "Epoch 500/1000, Train Loss: 0.0000, Test Loss: 0.8557\n",
      "Epoch 550/1000, Train Loss: 0.0000, Test Loss: 0.8764\n",
      "Epoch 600/1000, Train Loss: 0.0000, Test Loss: 0.8468\n",
      "Epoch 650/1000, Train Loss: 0.0000, Test Loss: 0.8731\n",
      "Epoch 700/1000, Train Loss: 0.0000, Test Loss: 0.8894\n",
      "Epoch 750/1000, Train Loss: 0.0000, Test Loss: 0.9047\n",
      "Epoch 800/1000, Train Loss: 0.0000, Test Loss: 0.9217\n",
      "Epoch 850/1000, Train Loss: 0.0000, Test Loss: 0.9430\n",
      "Epoch 900/1000, Train Loss: 0.0000, Test Loss: 0.9569\n",
      "Epoch 950/1000, Train Loss: 0.0000, Test Loss: 1.1908\n",
      "Epoch 1000/1000, Train Loss: 0.0000, Test Loss: 0.9862\n"
     ]
    }
   ],
   "source": [
    "# Loop over epochs\n",
    "for epoch in range(num_epochs):\n",
    "    epoch_train_loss = 0\n",
    "    epoch_validation_loss = 0\n",
    "    \n",
    "    # Training loop\n",
    "    # here: 45 samples, batch_size = 5, n_iters=45/5=9 -> 9 iterations\n",
    "    for local_batch, local_labels in training_generator:\n",
    "        # Transfer to GPU\n",
    "        local_batch, local_labels = local_batch.to(device), local_labels.to(device)\n",
    "        \n",
    "        # Clear out the gradients for the next step\n",
    "        optimizer.zero_grad()\n",
    "\n",
    "        # Forward pass\n",
    "        outputs = model(local_batch)\n",
    "        \n",
    "        loss_train = criterion(outputs, local_labels)\n",
    "        \n",
    "        # Calculate gradient\n",
    "        loss_train.backward()\n",
    "\n",
    "        # Update the weights\n",
    "        optimizer.step()\n",
    "        \n",
    "        epoch_train_loss += loss_train.item()\n",
    "    \n",
    "\n",
    "    # Validation\n",
    "    with torch.set_grad_enabled(False):\n",
    "        \n",
    "        for local_batch, local_labels in validation_generator:\n",
    "            # Transfer to GPU\n",
    "            local_batch, local_labels = local_batch.to(device), local_labels.to(device)\n",
    "            \n",
    "            # Forward pass\n",
    "            outputs = model(local_batch)\n",
    "            loss_validation = criterion(outputs, local_labels)\n",
    "    \n",
    "            epoch_validation_loss += loss_validation.item()\n",
    "    \n",
    "    # Store training and validation loss per epoch\n",
    "    train_losses[epoch] = epoch_train_loss\n",
    "    validation_losses[epoch] = epoch_validation_loss\n",
    "    \n",
    "    \n",
    "    if (epoch + 1) % 50 == 0:\n",
    "        print(f\"Epoch {epoch+1}/{num_epochs}, Train Loss: {epoch_train_loss:.4f}, Test Loss: {epoch_validation_loss:.4f}\")"
   ]
  },
  {
   "cell_type": "markdown",
   "id": "d9c259f0",
   "metadata": {},
   "source": [
    "## Model Performance"
   ]
  },
  {
   "cell_type": "code",
   "execution_count": 19,
   "id": "0623a3c2",
   "metadata": {
    "scrolled": false
   },
   "outputs": [
    {
     "data": {
      "image/png": "[encoded data removed]",
      "text/plain": [
       "<Figure size 1000x500 with 1 Axes>"
      ]
     },
     "metadata": {},
     "output_type": "display_data"
    }
   ],
   "source": [
    "plt.figure(figsize=(10,5))\n",
    "\n",
    "plt.plot(train_losses, label='train loss')\n",
    "plt.plot(validation_losses, label='validation loss')\n",
    "plt.legend()\n",
    "plt.show()"
   ]
  },
  {
   "cell_type": "code",
   "execution_count": 20,
   "id": "98710238",
   "metadata": {},
   "outputs": [],
   "source": [
    "predictions_train = []\n",
    "predictions_test =  []\n",
    "\n",
    "with torch.no_grad():\n",
    "    predictions_train = model(torch.FloatTensor(X_train).to(device))\n",
    "    predictions_test = model(torch.FloatTensor(X_test).to(device))"
   ]
  },
  {
   "cell_type": "code",
   "execution_count": 21,
   "id": "27983a09",
   "metadata": {},
   "outputs": [],
   "source": [
    "# Get performance accuracy\n",
    "def get_accuracy(y_predict, y_test):    \n",
    "    _, predicted = torch.max(y_predict, 1)\n",
    "    \n",
    "    count = 0\n",
    "    for i, j in zip(y_test, predicted):\n",
    "        count += 1 if i == j else 0\n",
    "            \n",
    "    return count/len(predicted)"
   ]
  },
  {
   "cell_type": "code",
   "execution_count": 22,
   "id": "db3f5044",
   "metadata": {},
   "outputs": [
    {
     "name": "stdout",
     "output_type": "stream",
     "text": [
      "Training accuracy: 1.0\n",
      "Test accuracy: 0.9433962264150944\n"
     ]
    }
   ],
   "source": [
    "print(f'Training accuracy: {get_accuracy(predictions_train, y_train)}')\n",
    "print(f'Test accuracy: {get_accuracy(predictions_test, y_test)}')"
   ]
  }
 ],
 "metadata": {
  "kernelspec": {
   "display_name": "pytorch_practice",
   "language": "python",
   "name": "pytorch_practice"
  },
  "language_info": {
   "codemirror_mode": {
    "name": "ipython",
    "version": 3
   },
   "file_extension": ".py",
   "mimetype": "text/x-python",
   "name": "python",
   "nbconvert_exporter": "python",
   "pygments_lexer": "ipython3",
   "version": "3.10.12"
  }
 },
 "nbformat": 4,
 "nbformat_minor": 5
}
